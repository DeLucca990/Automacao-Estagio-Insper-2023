{
 "cells": [
  {
   "cell_type": "markdown",
   "metadata": {},
   "source": [
    "### Importações Necessárias"
   ]
  },
  {
   "cell_type": "code",
   "execution_count": null,
   "metadata": {},
   "outputs": [],
   "source": [
    "from selenium import webdriver\n",
    "from webdriver_manager.chrome import ChromeDriverManager\n",
    "from selenium.webdriver.chrome.service import Service\n",
    "import pandas as pd\n",
    "from time import sleep"
   ]
  },
  {
   "cell_type": "markdown",
   "metadata": {},
   "source": [
    "### Ler Base de Dados"
   ]
  },
  {
   "cell_type": "code",
   "execution_count": null,
   "metadata": {},
   "outputs": [],
   "source": [
    "df = pd.read_excel('caminho_do_diretorio')\n",
    "df = pd.read_csv('caminho_do_diretorio')"
   ]
  },
  {
   "cell_type": "markdown",
   "metadata": {},
   "source": [
    "### Criando a função para utilizar na plataforma Lattes\n",
    "```python\n",
    "lattes_nan(df, id_coluna_nome, id_coluna_lattes)\n",
    "```\n",
    "- `df` (pandas DataFrame): O DataFrame onde as informações do usuário estão armazenadas.\n",
    "- `id_coluna_nome` (str): O nome da coluna onde estão os nomes dos usuários a serem pesquisados.\n",
    "- `id_coluna_lattes` (str): O nome da coluna onde estão os Links dos currículos Lattes dos usuários a serem pesquisados."
   ]
  },
  {
   "cell_type": "code",
   "execution_count": null,
   "metadata": {},
   "outputs": [],
   "source": [
    "service = Service(ChromeDriverManager().install())\n",
    "options = webdriver.ChromeOptions()\n",
    "\n",
    "def lattes_nan(df, id_coluna_nome,id_coluna_lattes):\n",
    "    # Caso queira que o navegador não abra, basta descomentar a linha abaixo\n",
    "    # options.add_argument('--headless')\n",
    "    for i in range(0, len(df)):\n",
    "        navegador = webdriver.Chrome(service=service, options=options)\n",
    "        navegador.get('https://buscatextual.cnpq.br/buscatextual/busca.do?metodo=apresentar')\n",
    "        nome = str(df[id_coluna_nome][i])\n",
    "        navegador.find_element('xpath', '//*[@id=\"textoBusca\"]').send_keys(nome)\n",
    "        navegador.find_element('xpath', '//*[@id=\"buscarDemais\"]').click()\n",
    "        navegador.find_element('xpath', '//*[@id=\"botaoBuscaFiltros\"]').click()\n",
    "        print(f'Estamos na linha {i} com o nome {nome}')\n",
    "        sleep(2)\n",
    "        if pd.isna(df.loc[i, id_coluna_lattes]):\n",
    "            try:\n",
    "                navegador.find_element('xpath', '/html/body/form/div/div[4]/div/div/div/div[3]/div/div[3]/ol/li/b/a').click()\n",
    "                sleep(2)\n",
    "                navegador.find_element('xpath', '//*[@id=\"idbtnabrircurriculo\"]').click()\n",
    "                sleep(1)\n",
    "                navegador.close()\n",
    "            except:\n",
    "                df.loc[i, id_coluna_lattes] = 'nan'\n",
    "                sleep(2)\n",
    "                navegador.close()\n",
    "                sleep(3)"
   ]
  },
  {
   "cell_type": "markdown",
   "metadata": {},
   "source": [
    "Basta chamar a função na linha de baixo com os parâmetros citados acima"
   ]
  },
  {
   "cell_type": "code",
   "execution_count": null,
   "metadata": {},
   "outputs": [],
   "source": [
    "lattes_nan()"
   ]
  }
 ],
 "metadata": {
  "kernelspec": {
   "display_name": "Python 3",
   "language": "python",
   "name": "python3"
  },
  "language_info": {
   "name": "python",
   "version": "3.10.7"
  },
  "orig_nbformat": 4
 },
 "nbformat": 4,
 "nbformat_minor": 2
}
