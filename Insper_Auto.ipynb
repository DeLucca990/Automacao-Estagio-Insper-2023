{
 "cells": [
  {
   "cell_type": "markdown",
   "metadata": {},
   "source": [
    "### Importações Necessárias"
   ]
  },
  {
   "cell_type": "code",
   "execution_count": 1,
   "metadata": {},
   "outputs": [],
   "source": [
    "from selenium import webdriver\n",
    "from webdriver_manager.chrome import ChromeDriverManager\n",
    "from selenium.webdriver.chrome.service import Service\n",
    "import pandas as pd\n",
    "from time import sleep"
   ]
  },
  {
   "cell_type": "markdown",
   "metadata": {},
   "source": [
    "### Ler a Base de Dados"
   ]
  },
  {
   "cell_type": "code",
   "execution_count": null,
   "metadata": {},
   "outputs": [],
   "source": [
    "df = pd.read_excel('caminho_do_diretorio')\n",
    "df = pd.read_csv('caminho_do_diretorio')"
   ]
  },
  {
   "cell_type": "markdown",
   "metadata": {},
   "source": [
    "As próximas linhas de código extrai o ID LATTES a partir da coluna em que estão os links dos currículos dos usuários, adicionando uma nova coluna ao dataframe. O mesmo é feito para o ID INSPER.\n",
    "\n",
    "<font color=\"red\">IMPORTANTE:</font> Essa parte do código só precisa ser executada caso não tenhamos os IDs LATTES e INSPER na base de dados."
   ]
  },
  {
   "cell_type": "code",
   "execution_count": 7,
   "metadata": {},
   "outputs": [],
   "source": [
    "for i in range(0, len(df)):\n",
    "    if pd.notna(df.loc[i, 'LATTES']):\n",
    "        id_lattes = df.loc[i, 'LATTES'].split('/')[-1]\n",
    "        df.loc[i, 'ID LATTES'] = id_lattes\n",
    "    if pd.notna(df.loc[i, 'INSPER EMAIL']):\n",
    "        id_insper = df.loc[i, 'INSPER EMAIL'].split('@')[0]\n",
    "        df.loc[i, 'ID INSPER'] = id_insper"
   ]
  },
  {
   "cell_type": "markdown",
   "metadata": {},
   "source": [
    "### Criando a função responsável por adicionar os usuários na Plataforma do Insper\n",
    "```python\n",
    "adicionar_usuario(link_site, usuario, senha, df, id_coluna_nome, id_coluna_lattes, id_coluna_insper, id_coluna_cpf)\n",
    "```\n",
    "- `usuario` (str): O seu usuário Insper.\n",
    "- `senha` (str): A sua senha de acesso.\n",
    "- `df` (pandas DataFrame): O DataFrame onde as informações do usuário estão armazenadas.\n",
    "- `id_coluna_nome` (str): O nome da coluna onde estão os nomes dos usuários a serem cadastrados.\n",
    "- `id_coluna_lattes` (str): O nome da coluna onde estão os IDs LATTES dos usuários a serem cadastrados.\n",
    "- `id_coluna_insper` (str): O nome da coluna onde estão os IDs INSPER dos usuários a serem cadastrados.\n",
    "- `id_coluna_cpf` (str): O nome da coluna onde estão os CPFs dos usuários a serem cadastrados."
   ]
  },
  {
   "cell_type": "code",
   "execution_count": 10,
   "metadata": {},
   "outputs": [],
   "source": [
    "# Todos as variáveis dessa função são Strings, menos df, que representa um dataframe\n",
    "service = Service(ChromeDriverManager().install())\n",
    "options = webdriver.ChromeOptions()\n",
    "\n",
    "def adicionar_usuario(usuario, senha, df, id_coluna_nome, id_coluna_lattes, id_coluna_insper, id_coluna_cpf):\n",
    "    # Caso queira que o navegador não abra, basta descomentar a linha abaixo\n",
    "    # options.add_argument('--headless')\n",
    "    navegador = webdriver.Chrome(service=service, options=options)\n",
    "\n",
    "    navegador.get('https://cgi.insper.edu.br/PortfolioDocente/')\n",
    "\n",
    "    navegador.find_element('xpath', '//*[@id=\"ContentPlaceHolder1_txtLogin\"]').send_keys(usuario)\n",
    "    navegador.find_element('xpath', '//*[@id=\"ContentPlaceHolder1_txtSenha\"]').send_keys(senha)\n",
    "    navegador.find_element('xpath', '//*[@id=\"ContentPlaceHolder1_btnAcessar\"]').click()\n",
    "    sleep(2)\n",
    "    navegador.find_element('xpath', '//*[@id=\"ContentPlaceHolder1_btnAdicionar\"]').click()\n",
    "    sleep(2)\n",
    "    for i in range(0, len(df)):\n",
    "        nome = df.loc[i, id_coluna_nome]\n",
    "        id_lattes = df.loc[i, id_coluna_lattes]\n",
    "        id_insper = df.loc[i, id_coluna_insper]\n",
    "\n",
    "        # Caso o respectivo usuário não tenha um CPF cadastrado na base de dados, basta adicionar um genérico, já que a plataforma do Insper aceita\n",
    "        # sem problemas.\n",
    "        if pd.isna(df.loc[i, id_coluna_cpf]):\n",
    "            cpf = 83483772049\n",
    "        else:\n",
    "            cpf = df.loc[i, id_coluna_cpf]\n",
    "        navegador.find_element('xpath', '//*[@id=\"ContentPlaceHolder1_txtNome\"]').send_keys(nome) # Nome Completo\n",
    "        navegador.find_element('xpath', '//*[@id=\"ContentPlaceHolder1_txtCpf\"]').send_keys(cpf) # Cpf\n",
    "        navegador.find_element('xpath', '//*[@id=\"ContentPlaceHolder1_txtCodigoLattes\"]').send_keys(id_lattes) # Id Lattes\n",
    "        navegador.find_element('xpath', '//*[@id=\"ContentPlaceHolder1_txtLogin\"]').send_keys(id_insper) # Id Insper\n",
    "        print(f'Nome: {nome} // CPF: {cpf} // ID Lattes: {id_lattes} // ID Insper: {id_insper} // Linha {i}')\n",
    "        sleep(1)\n",
    "        navegador.find_element('xpath', '//*[@id=\"ContentPlaceHolder1_btnSalvar\"]').click()\n",
    "        sleep(4)"
   ]
  },
  {
   "cell_type": "markdown",
   "metadata": {},
   "source": [
    "Basta chamar a função na linha de baixo com os parâmetros citados acima"
   ]
  },
  {
   "cell_type": "code",
   "execution_count": null,
   "metadata": {},
   "outputs": [],
   "source": [
    "adicionar_usuario()"
   ]
  },
  {
   "cell_type": "markdown",
   "metadata": {},
   "source": [
    "### Criando a função responsável por importar os usuários na Plataforma do Insper\n",
    "```python\n",
    "importar_usuario(link_site, usuario, senha, df, id_coluna_nome)\n",
    "```\n",
    "- `usuario` (str): O seu usuário Insper (Provavelmente você precisará pedir acesso a um funcionário da instituição).\n",
    "- `senha` (str): A sua senha de acesso.\n",
    "- `df` (pandas DataFrame): O DataFrame onde as informações do usuário estão armazenadas.\n",
    "- `id_coluna_nome` (str): O nome da coluna onde estão os nomes dos usuários a serem cadastrados."
   ]
  },
  {
   "cell_type": "code",
   "execution_count": 3,
   "metadata": {},
   "outputs": [],
   "source": [
    "# Todos as variáveis dessa função são Strings, menos df, que representa um dataframe\n",
    "service = Service(ChromeDriverManager().install())\n",
    "options = webdriver.ChromeOptions()\n",
    "\n",
    "def importar_usuario(usuario, senha, df, id_coluna_nome):\n",
    "    # Caso queira que o navegador não abra, basta descomentar a linha abaixo\n",
    "    # options.add_argument('--headless')\n",
    "    navegador = webdriver.Chrome(service=service, options=options)\n",
    "\n",
    "    navegador.get('https://cgi.insper.edu.br/PortfolioDocente/')\n",
    "\n",
    "    navegador.find_element('xpath', '//*[@id=\"ContentPlaceHolder1_txtLogin\"]').send_keys(usuario)\n",
    "    navegador.find_element('xpath', '//*[@id=\"ContentPlaceHolder1_txtSenha\"]').send_keys(senha)\n",
    "    navegador.find_element('xpath', '//*[@id=\"ContentPlaceHolder1_btnAcessar\"]').click()\n",
    "    sleep(2)\n",
    "    for i in range(0, len(df)):\n",
    "        nome = df.loc[i, id_coluna_nome]\n",
    "        print(f'Nome: {nome} // Linha {i}')\n",
    "        navegador.find_element('xpath', '//*[@id=\"ContentPlaceHolder1_txtNome\"]').send_keys(nome)\n",
    "        navegador.find_element('xpath', '//*[@id=\"ContentPlaceHolder1_btnBuscar\"]').click()\n",
    "        sleep(2)\n",
    "        navegador.find_element('xpath', '//*[@id=\"ContentPlaceHolder1_gridDocente_chkMarcarTodos\"]').click()\n",
    "        navegador.find_element('xpath', '//*[@id=\"ContentPlaceHolder1_btnImportar\"]').click()\n",
    "        sleep(5)\n",
    "        navegador.find_element('xpath', '/html/body/div[1]/div[3]/div/button/span').click()\n",
    "        navegador.find_element('xpath', '//*[@id=\"ContentPlaceHolder1_txtNome\"]').clear()\n",
    "        sleep(2)\n"
   ]
  },
  {
   "cell_type": "markdown",
   "metadata": {},
   "source": [
    "Basta chamar a função na linha de baixo com os parâmetros citados acima"
   ]
  },
  {
   "cell_type": "code",
   "execution_count": null,
   "metadata": {},
   "outputs": [],
   "source": [
    "importar_usuario()"
   ]
  }
 ],
 "metadata": {
  "kernelspec": {
   "display_name": "Python 3",
   "language": "python",
   "name": "python3"
  },
  "language_info": {
   "codemirror_mode": {
    "name": "ipython",
    "version": 3
   },
   "file_extension": ".py",
   "mimetype": "text/x-python",
   "name": "python",
   "nbconvert_exporter": "python",
   "pygments_lexer": "ipython3",
   "version": "3.10.7"
  },
  "orig_nbformat": 4
 },
 "nbformat": 4,
 "nbformat_minor": 2
}
