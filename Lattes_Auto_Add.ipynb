{
 "cells": [
  {
   "cell_type": "markdown",
   "metadata": {},
   "source": [
    "### Importações Necessárias"
   ]
  },
  {
   "cell_type": "code",
   "execution_count": null,
   "metadata": {},
   "outputs": [],
   "source": [
    "from selenium import webdriver\n",
    "from webdriver_manager.chrome import ChromeDriverManager\n",
    "from selenium.webdriver.chrome.service import Service\n",
    "import pandas as pd\n",
    "from time import sleep"
   ]
  },
  {
   "cell_type": "markdown",
   "metadata": {},
   "source": [
    "### Ler Base de Dados"
   ]
  },
  {
   "cell_type": "code",
   "execution_count": null,
   "metadata": {},
   "outputs": [],
   "source": [
    "df = pd.read_excel('caminho_do_diretorio')\n",
    "df = pd.read_csv('caminho_do_diretorio')"
   ]
  },
  {
   "cell_type": "markdown",
   "metadata": {},
   "source": [
    "### Código para buscar currículos na plataforma Lattes\n",
    "- `id_coluna_nome` (str): O nome da coluna onde estão os nomes dos usuários a serem pesquisados.\n",
    "- `num_linha` (int): O número da linha onde o nome do usuário está (essa é a variável que você deve ficar alterando)."
   ]
  },
  {
   "cell_type": "code",
   "execution_count": null,
   "metadata": {},
   "outputs": [],
   "source": [
    "id_coluna_nome = 'ALUNO NOME'\n",
    "num_linha = 30\n",
    "\n",
    "service = Service()\n",
    "options = webdriver.ChromeOptions()\n",
    "navegador = webdriver.Chrome(service=service, options=options)\n",
    "navegador.get('https://buscatextual.cnpq.br/buscatextual/busca.do?metodo=apresentar')\n",
    "nome = str(df[id_coluna_nome][num_linha - 2])\n",
    "navegador.find_element('xpath', '//*[@id=\"textoBusca\"]').send_keys(nome)\n",
    "navegador.find_element('xpath', '//*[@id=\"buscarDemais\"]').click()\n",
    "navegador.find_element('xpath', '//*[@id=\"botaoBuscaFiltros\"]').click()\n",
    "print(nome)\n",
    "sleep(2)\n",
    "try:\n",
    "    navegador.find_element('xpath', '/html/body/form/div/div[4]/div/div/div/div[3]/div/div[3]/ol/li/b/a').click()\n",
    "    sleep(2)\n",
    "    navegador.find_element('xpath', '//*[@id=\"idbtnabrircurriculo\"]').click()\n",
    "except:\n",
    "    print('Não possui currículo Lattes')\n",
    "    navegador.close()"
   ]
  }
 ],
 "metadata": {
  "kernelspec": {
   "display_name": "Python 3",
   "language": "python",
   "name": "python3"
  },
  "language_info": {
   "name": "python",
   "version": "3.10.7"
  },
  "orig_nbformat": 4
 },
 "nbformat": 4,
 "nbformat_minor": 2
}
